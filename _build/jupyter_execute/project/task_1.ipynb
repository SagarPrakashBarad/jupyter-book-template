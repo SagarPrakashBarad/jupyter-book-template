{
 "cells": [
  {
   "cell_type": "markdown",
   "id": "d2175944",
   "metadata": {},
   "source": [
    "## Task One: Confronting the Hungarian Horntail\n",
    "\n",
    "In the Triwizard Tournament, I confronted the Hungarian Horntail, tasked with retrieving a golden egg it fiercely guarded. With Gryffindor courage, I flew on my broomstick, dodging the dragon's fiery breath. Despite the danger, I seized the moment, snatching the egg and escaping. Victorious, I faced the challenge head-on, proving my courage and determination."
   ]
  }
 ],
 "metadata": {
  "jupytext": {
   "formats": "md:myst",
   "text_representation": {
    "extension": ".md",
    "format_name": "myst",
    "format_version": 0.13,
    "jupytext_version": "1.11.5"
   }
  },
  "kernelspec": {
   "display_name": "Python 3",
   "language": "python",
   "name": "python3"
  },
  "language_info": {
   "codemirror_mode": {
    "name": "ipython",
    "version": 3
   },
   "file_extension": ".py",
   "mimetype": "text/x-python",
   "name": "python",
   "nbconvert_exporter": "python",
   "pygments_lexer": "ipython3",
   "version": "3.11.5"
  },
  "source_map": [
   13
  ]
 },
 "nbformat": 4,
 "nbformat_minor": 5
}